{
 "cells": [
  {
   "cell_type": "markdown",
   "metadata": {},
   "source": [
    "# Python Project - I \n",
    "------------------------------------------------------------------------------------------------------\n",
    "#### Date - 09-01-2025 ; Thursday\n",
    "------------------------------------------------------------------------------------------------------\n",
    "# Project Name : A Python Based Contact Book"
   ]
  },
  {
   "cell_type": "code",
   "execution_count": 3,
   "metadata": {},
   "outputs": [],
   "source": [
    "# 1. Creating a Dictionary to Store Contacts\n",
    "\n",
    "Contacts = {}"
   ]
  },
  {
   "cell_type": "code",
   "execution_count": 9,
   "metadata": {},
   "outputs": [
    {
     "name": "stdout",
     "output_type": "stream",
     "text": [
      "Welcome to your Contact Book!\n",
      "Choose an Option : \n",
      "1. Add a New Contact\n",
      "2. View all Contacts\n",
      "3. Exit\n",
      "Enter your Choice (1/2/3): 1\n",
      "Enter Contact Name : Adam\n",
      "Enter Phone Number : + 110-2424-532\n",
      "Contact  Adam created successfully! \n",
      "Choose an Option : \n",
      "1. Add a New Contact\n",
      "2. View all Contacts\n",
      "3. Exit\n",
      "Enter your Choice (1/2/3): 3\n",
      "Goodbye! Have a Nice Day!\n"
     ]
    }
   ],
   "source": [
    "# Creating a function to call the 'Contacts' Dictionary.\n",
    "\n",
    "def new_contact():\n",
    "    \n",
    "    # Taking Input from the user.\n",
    "    name = input(\"Enter Contact Name : \")\n",
    "    phone = input(\"Enter Phone Number : \")\n",
    "    \n",
    "    # Assigning Input Values to the Dictionary :\n",
    "\n",
    "    Contacts[name] = phone\n",
    "\n",
    "    # Printing the Statement.\n",
    "\n",
    "    print(\"Contact \", name, \"created successfully! \")\n",
    "\n",
    "# Now Creating a function to view the newly created contacts from the Dictionary : \n",
    "\n",
    "def view_contacts() :\n",
    "    \n",
    "    # Check if there are any contacts saved or not.\n",
    "    if not Contacts :\n",
    "        print(\"No Contact named \", name, \"found!\")\n",
    "        # if no contacts are found, exit from the function.\n",
    "        return \n",
    "    \n",
    "    # If any Contacts are Present, Displaying all contacts.\n",
    "    print(\"Your Contacts : \")\n",
    "    \n",
    "    # Now Printing all the Contacts with their Phone Number.\n",
    "    for name, phone in Contacts.items():\n",
    "        print(name, \":\", phone)\n",
    "        \n",
    "        \n",
    "# Now defining the function for further steps :\n",
    "\n",
    "def phonebook():\n",
    "    \n",
    "    # Greetings \n",
    "    print(\"Welcome to your Contact Book!\")\n",
    "    \n",
    "    # Now keeping the program running until the user chooses to exit.\n",
    "    while True :\n",
    "        \n",
    "        # Showing User Options \n",
    "        print(\"Choose an Option : \")\n",
    "        print(\"1. Add a New Contact\")\n",
    "        print(\"2. View all Contacts\")\n",
    "        print(\"3. Exit\")\n",
    "        \n",
    "        # For getting user's choice we do\n",
    "        choice = input(\"Enter your Choice (1/2/3): \")\n",
    "        \n",
    "        # Now Calling the Previously Created Functions According to the requirement.\n",
    "        if choice == \"1\" : \n",
    "            new_contact()                               # Calling The Function To Add New Contact.\n",
    "        elif choice == \"2\" :\n",
    "            view_contacts()                             # Calling The Function To View New Contacts.\n",
    "        elif choice == \"3\" : \n",
    "            print(\"Goodbye! Have a Nice Day!\")          # Greetings.\n",
    "            break                                       # To Exit The Program.\n",
    "        else :\n",
    "            print(\"Invalid Choice!, Please Try Again!\") # In Case of Invalid User Input/Choice.\n",
    "            \n",
    "\n",
    "# Now Calling The Phonebook() Function.\n",
    "\n",
    "phonebook()"
   ]
  },
  {
   "cell_type": "code",
   "execution_count": null,
   "metadata": {},
   "outputs": [],
   "source": []
  }
 ],
 "metadata": {
  "kernelspec": {
   "display_name": "Python 3",
   "language": "python",
   "name": "python3"
  },
  "language_info": {
   "codemirror_mode": {
    "name": "ipython",
    "version": 3
   },
   "file_extension": ".py",
   "mimetype": "text/x-python",
   "name": "python",
   "nbconvert_exporter": "python",
   "pygments_lexer": "ipython3",
   "version": "3.8.3"
  }
 },
 "nbformat": 4,
 "nbformat_minor": 4
}
